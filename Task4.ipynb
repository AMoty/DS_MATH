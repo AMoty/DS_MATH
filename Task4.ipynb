{
 "cells": [
  {
   "cell_type": "code",
   "execution_count": 2,
   "id": "12c37ec9",
   "metadata": {},
   "outputs": [],
   "source": [
    "import numpy as np\n",
    "import matplotlib.pyplot as plt\n",
    "import sympy as sy"
   ]
  },
  {
   "cell_type": "code",
   "execution_count": 3,
   "id": "3fb5ed88",
   "metadata": {},
   "outputs": [],
   "source": [
    "def find_der():\n",
    "    x, y = sy.symbols(\"x y\")\n",
    "    f = x**5 + 4 * sy.sin(2*x) + sy.cos(3*x +3)\n",
    "    df = sy.diff(f, x)\n",
    "    ddf = sy.diff(df, x)\n",
    "    print(f\"Первая производная ({df.subs(x, 1)}) принимает значение {df.evalf(subs={x:1}, n = 4)} в точке х = 1\")\n",
    "    print(f\"Вторая производная ({ddf.subs(x, 1)}) принимает значение {ddf.evalf(subs={x:1}, n = 4)} в точке х = 1\")"
   ]
  },
  {
   "cell_type": "code",
   "execution_count": 4,
   "id": "5b79a4ab",
   "metadata": {
    "scrolled": true
   },
   "outputs": [
    {
     "name": "stdout",
     "output_type": "stream",
     "text": [
      "Первая производная (8*cos(2) - 3*sin(6) + 5) принимает значение 2.509 в точке х = 1\n",
      "Вторая производная (-16*sin(2) - 9*cos(6) + 20) принимает значение -3.190 в точке х = 1\n"
     ]
    }
   ],
   "source": [
    "find_der()"
   ]
  },
  {
   "cell_type": "code",
   "execution_count": null,
   "id": "3bb01c08",
   "metadata": {},
   "outputs": [],
   "source": []
  }
 ],
 "metadata": {
  "kernelspec": {
   "display_name": "Python 3 (ipykernel)",
   "language": "python",
   "name": "python3"
  },
  "language_info": {
   "codemirror_mode": {
    "name": "ipython",
    "version": 3
   },
   "file_extension": ".py",
   "mimetype": "text/x-python",
   "name": "python",
   "nbconvert_exporter": "python",
   "pygments_lexer": "ipython3",
   "version": "3.9.7"
  }
 },
 "nbformat": 4,
 "nbformat_minor": 5
}
