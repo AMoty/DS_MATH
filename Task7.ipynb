{
 "cells": [
  {
   "cell_type": "code",
   "execution_count": 1,
   "id": "90c9b29c",
   "metadata": {},
   "outputs": [],
   "source": [
    "import numpy as np\n",
    "import matplotlib.pyplot as plt\n",
    "import math"
   ]
  },
  {
   "cell_type": "code",
   "execution_count": 4,
   "id": "8ad160ed",
   "metadata": {},
   "outputs": [
    {
     "name": "stdout",
     "output_type": "stream",
     "text": [
      "Вероятность выпадения простого числа орлов в 15 испытаниях равна 0.3499755859375\n"
     ]
    }
   ],
   "source": [
    "#Монетку подбрасывают 15 раз, найдите вероятность выпадения простого числа орлов.\n",
    "n = 15 # количество испытаний\n",
    "numbers = [2, 3, 5, 7, 11, 13] # простые числа\n",
    "p = 0.5 # вероятность выпадения орла\n",
    "P = 0\n",
    "for i in numbers:\n",
    "    coeff = math.factorial(n) / (math.factorial(i) * math.factorial(n - i))\n",
    "    P += coeff * p**i * (1 - p)**(n - i)\n",
    "print(f'Вероятность выпадения простого числа орлов в 15 испытаниях равна {P}')"
   ]
  },
  {
   "cell_type": "code",
   "execution_count": 10,
   "id": "e2e4c67a",
   "metadata": {},
   "outputs": [],
   "source": [
    "#Создайте свою дискретную случайную величину с не менее, чем 10 значениями. \n",
    "#Просемплируйте 1000 случайных значений, постройте гистограмму плотности распределения по выборке, \n",
    "#посчитайте среднее, дисперсию и медиану.\n",
    "\n",
    "val = np.random.randint(0, 1000, 15)\n",
    "sample = np.random.choice(val, size=1000)"
   ]
  },
  {
   "cell_type": "code",
   "execution_count": 11,
   "id": "f02d1f12",
   "metadata": {},
   "outputs": [
    {
     "data": {
      "text/plain": [
       "array([893, 916, 599, 767, 502, 468, 982, 897, 255, 263, 456, 420, 302,\n",
       "       244, 266])"
      ]
     },
     "execution_count": 11,
     "metadata": {},
     "output_type": "execute_result"
    }
   ],
   "source": [
    "val"
   ]
  },
  {
   "cell_type": "code",
   "execution_count": 13,
   "id": "4b3e52ed",
   "metadata": {},
   "outputs": [
    {
     "data": {
      "text/plain": [
       "array([916, 456, 502, 897, 893, 599, 893, 263, 982, 468, 456, 456, 255,\n",
       "       468, 897, 893, 767, 897, 302, 916, 767, 916, 982, 263, 599, 255,\n",
       "       266, 502, 893, 599, 420, 916, 502, 263, 893, 897, 502, 266, 255,\n",
       "       420, 897, 893, 502, 982, 266, 263, 255, 456, 893, 255, 468, 916,\n",
       "       599, 420, 599, 263, 456, 982, 767, 599, 420, 502, 599, 263, 263,\n",
       "       244, 244, 244, 893, 897, 456, 767, 502, 468, 456, 263, 255, 599,\n",
       "       263, 468, 893, 420, 982, 420, 468, 244, 599, 916, 302, 456, 302,\n",
       "       893, 255, 263, 420, 767, 255, 767, 468, 266, 502, 893, 266, 420,\n",
       "       244, 897, 456, 982, 893, 468, 456, 244, 420, 897, 468, 767, 266,\n",
       "       502, 263, 767, 420, 456, 456, 456, 244, 893, 255, 266, 916, 916,\n",
       "       456, 302, 982, 893, 244, 982, 468, 982, 468, 893, 916, 897, 916,\n",
       "       767, 982, 468, 420, 502, 302, 420, 263, 420, 456, 244, 266, 266,\n",
       "       468, 767, 916, 893, 420, 468, 916, 893, 767, 468, 456, 468, 502,\n",
       "       456, 897, 502, 255, 255, 468, 244, 244, 502, 982, 468, 502, 266,\n",
       "       916, 420, 263, 456, 263, 420, 767, 916, 893, 502, 502, 302, 916,\n",
       "       263, 266, 468, 982, 916, 767, 502, 263, 456, 244, 468, 897, 502,\n",
       "       263, 502, 302, 916, 266, 302, 266, 982, 302, 982, 982, 897, 302,\n",
       "       255, 916, 767, 599, 767, 255, 599, 420, 502, 255, 263, 897, 916,\n",
       "       599, 897, 302, 767, 893, 420, 982, 468, 468, 244, 502, 767, 502,\n",
       "       244, 255, 255, 302, 244, 420, 468, 767, 893, 982, 767, 263, 456,\n",
       "       767, 502, 266, 897, 767, 599, 767, 897, 266, 302, 468, 302, 468,\n",
       "       767, 468, 767, 982, 244, 767, 767, 897, 244, 599, 502, 897, 767,\n",
       "       502, 255, 420, 244, 893, 502, 468, 599, 982, 897, 897, 456, 263,\n",
       "       244, 456, 982, 263, 420, 263, 302, 767, 420, 468, 244, 767, 897,\n",
       "       502, 502, 456, 599, 266, 244, 420, 893, 767, 468, 456, 599, 916,\n",
       "       767, 502, 420, 893, 302, 244, 255, 982, 420, 244, 767, 263, 916,\n",
       "       502, 916, 456, 302, 982, 502, 916, 420, 767, 599, 263, 420, 456,\n",
       "       255, 263, 916, 982, 266, 266, 266, 916, 255, 502, 420, 916, 456,\n",
       "       456, 502, 893, 982, 244, 916, 916, 302, 599, 420, 244, 897, 302,\n",
       "       599, 255, 263, 456, 982, 244, 502, 893, 456, 502, 244, 266, 599,\n",
       "       456, 982, 982, 468, 302, 263, 244, 599, 767, 599, 916, 255, 244,\n",
       "       893, 456, 420, 244, 767, 916, 420, 456, 266, 916, 893, 893, 599,\n",
       "       468, 982, 255, 897, 599, 897, 244, 502, 916, 893, 302, 255, 302,\n",
       "       502, 420, 456, 244, 897, 456, 767, 266, 893, 255, 916, 897, 893,\n",
       "       916, 244, 468, 420, 468, 263, 767, 767, 263, 982, 302, 263, 420,\n",
       "       420, 263, 468, 502, 916, 468, 468, 916, 266, 982, 982, 982, 916,\n",
       "       255, 244, 244, 893, 897, 982, 916, 468, 916, 893, 916, 893, 982,\n",
       "       266, 263, 916, 982, 599, 302, 767, 982, 302, 982, 255, 767, 244,\n",
       "       244, 916, 302, 502, 255, 255, 502, 767, 893, 263, 767, 502, 420,\n",
       "       897, 599, 767, 767, 468, 599, 302, 420, 456, 767, 502, 255, 244,\n",
       "       255, 468, 266, 456, 244, 244, 893, 456, 916, 244, 302, 255, 266,\n",
       "       263, 599, 468, 266, 266, 897, 255, 266, 302, 916, 420, 916, 263,\n",
       "       982, 893, 420, 893, 916, 456, 263, 916, 897, 982, 502, 420, 982,\n",
       "       263, 767, 468, 255, 244, 263, 263, 468, 266, 767, 502, 599, 897,\n",
       "       456, 456, 266, 244, 767, 266, 767, 456, 502, 893, 263, 456, 456,\n",
       "       767, 502, 244, 982, 266, 456, 255, 266, 255, 468, 468, 420, 302,\n",
       "       456, 420, 893, 893, 599, 302, 263, 255, 767, 263, 599, 916, 263,\n",
       "       420, 302, 767, 502, 468, 599, 420, 302, 982, 599, 468, 456, 916,\n",
       "       502, 982, 767, 502, 263, 767, 897, 468, 420, 897, 502, 502, 263,\n",
       "       916, 255, 263, 263, 244, 502, 468, 767, 255, 916, 266, 266, 255,\n",
       "       266, 916, 502, 897, 420, 767, 767, 916, 897, 468, 420, 456, 420,\n",
       "       263, 266, 263, 502, 982, 302, 420, 266, 893, 244, 916, 502, 244,\n",
       "       468, 302, 916, 916, 599, 982, 266, 420, 893, 982, 456, 255, 255,\n",
       "       263, 916, 767, 767, 302, 456, 263, 599, 767, 897, 420, 916, 982,\n",
       "       468, 468, 599, 767, 263, 302, 897, 767, 420, 767, 916, 266, 263,\n",
       "       599, 893, 456, 420, 767, 767, 302, 599, 897, 266, 767, 420, 255,\n",
       "       244, 916, 302, 767, 916, 599, 420, 255, 244, 916, 255, 982, 263,\n",
       "       916, 266, 420, 244, 599, 255, 255, 420, 244, 302, 468, 266, 897,\n",
       "       244, 502, 982, 982, 767, 502, 893, 420, 897, 255, 468, 599, 468,\n",
       "       263, 893, 916, 502, 302, 266, 468, 982, 982, 255, 767, 468, 420,\n",
       "       893, 897, 893, 244, 502, 266, 456, 420, 456, 599, 767, 982, 468,\n",
       "       302, 263, 916, 982, 897, 263, 982, 767, 468, 420, 893, 456, 266,\n",
       "       244, 982, 468, 263, 982, 599, 893, 302, 302, 468, 893, 263, 893,\n",
       "       255, 266, 893, 263, 893, 266, 263, 893, 266, 502, 456, 468, 420,\n",
       "       897, 468, 302, 302, 893, 302, 502, 266, 302, 897, 266, 468, 599,\n",
       "       599, 468, 893, 468, 982, 456, 255, 420, 916, 599, 255, 502, 897,\n",
       "       893, 468, 982, 244, 502, 897, 263, 266, 767, 599, 599, 982, 266,\n",
       "       982, 502, 456, 893, 599, 255, 255, 263, 266, 468, 916, 266, 599,\n",
       "       916, 266, 302, 263, 263, 893, 897, 302, 468, 266, 468, 244, 255,\n",
       "       244, 302, 468, 502, 263, 502, 767, 302, 255, 897, 916, 897, 893,\n",
       "       263, 767, 599, 916, 266, 456, 982, 255, 263, 255, 468, 982, 420,\n",
       "       502, 255, 456, 302, 897, 982, 897, 982, 263, 982, 302, 266, 982,\n",
       "       468, 255, 599, 982, 893, 897, 468, 599, 456, 266, 266, 255, 767,\n",
       "       244, 244, 982, 468, 982, 468, 502, 916, 502, 897, 468, 502, 916,\n",
       "       502, 263, 502, 916, 263, 263, 767, 420, 263, 982, 893, 502, 420,\n",
       "       263, 456, 263, 420, 244, 468, 767, 897, 456, 420, 897, 302, 893,\n",
       "       263, 502, 302, 897, 263, 916, 893, 599, 982, 897, 468, 502])"
      ]
     },
     "execution_count": 13,
     "metadata": {},
     "output_type": "execute_result"
    }
   ],
   "source": [
    "sample"
   ]
  },
  {
   "cell_type": "code",
   "execution_count": 19,
   "id": "1af2f1e4",
   "metadata": {},
   "outputs": [
    {
     "data": {
      "image/png": "[encoded data removed]",
      "text/plain": [
       "<Figure size 432x288 with 1 Axes>"
      ]
     },
     "metadata": {
      "needs_background": "light"
     },
     "output_type": "display_data"
    }
   ],
   "source": [
    "plt.hist(sample, bins=100)\n",
    "plt.show()"
   ]
  },
  {
   "cell_type": "code",
   "execution_count": 17,
   "id": "a7d971bf",
   "metadata": {},
   "outputs": [
    {
     "name": "stdout",
     "output_type": "stream",
     "text": [
      "Среднее 554.97\n",
      "Дисперсия 69708.3991\n",
      "Медиана 468.0\n"
     ]
    }
   ],
   "source": [
    "print('Среднее', np.mean(sample))\n",
    "print('Дисперсия', np.var(sample))\n",
    "print('Медиана', np.median(sample))"
   ]
  },
  {
   "cell_type": "code",
   "execution_count": null,
   "id": "69e85c91",
   "metadata": {},
   "outputs": [],
   "source": []
  }
 ],
 "metadata": {
  "kernelspec": {
   "display_name": "Python 3 (ipykernel)",
   "language": "python",
   "name": "python3"
  },
  "language_info": {
   "codemirror_mode": {
    "name": "ipython",
    "version": 3
   },
   "file_extension": ".py",
   "mimetype": "text/x-python",
   "name": "python",
   "nbconvert_exporter": "python",
   "pygments_lexer": "ipython3",
   "version": "3.9.7"
  }
 },
 "nbformat": 4,
 "nbformat_minor": 5
}
